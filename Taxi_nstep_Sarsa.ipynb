{
 "cells": [
  {
   "cell_type": "code",
   "execution_count": 147,
   "id": "proud-mountain",
   "metadata": {},
   "outputs": [],
   "source": [
    "import gym\n",
    "import numpy as np\n",
    "import time\n",
    "import random\n",
    "import matplotlib.pyplot as plt\n",
    "import gym_gridworld\n",
    "import gymgrid\n",
    "from IPython.display import clear_output # Used to clear the ouput of a Jupyter cell."
   ]
  },
  {
   "cell_type": "code",
   "execution_count": 148,
   "id": "known-liberty",
   "metadata": {},
   "outputs": [
    {
     "name": "stdout",
     "output_type": "stream",
     "text": [
      "+---------+\n",
      "|R: | : :\u001b[35mG\u001b[0m|\n",
      "| : | : : |\n",
      "| : : : : |\n",
      "| | : | : |\n",
      "|Y| : |\u001b[34;1m\u001b[43mB\u001b[0m\u001b[0m: |\n",
      "+---------+\n",
      "\n",
      "State space: Discrete(500)\n",
      "Action space: Discrete(6)\n"
     ]
    }
   ],
   "source": [
    "env = gym.make('Taxi-v3')\n",
    "state = env.reset()\n",
    "env.render()\n",
    "print(\"State space:\", env.observation_space)\n",
    "print(\"Action space:\", env.action_space)"
   ]
  },
  {
   "cell_type": "code",
   "execution_count": 149,
   "id": "attractive-pacific",
   "metadata": {},
   "outputs": [
    {
     "name": "stdout",
     "output_type": "stream",
     "text": [
      "+---------+\n",
      "|R: | : :\u001b[35mG\u001b[0m|\n",
      "| : | : : |\n",
      "| : : : : |\n",
      "| | : |\u001b[43m \u001b[0m: |\n",
      "|Y| : |\u001b[34;1mB\u001b[0m: |\n",
      "+---------+\n",
      "  (North)\n",
      "New state: 373\n",
      "Reward: -1\n",
      "Done: False\n",
      "Info: {'prob': 1.0}\n"
     ]
    }
   ],
   "source": [
    "new_state, reward, done, info = env.step(1) # Take action 1 (north)\n",
    "env.render()\n",
    "print(\"New state:\", new_state)\n",
    "print(\"Reward:\", reward)\n",
    "print(\"Done:\", done)\n",
    "print(\"Info:\", info)"
   ]
  },
  {
   "cell_type": "markdown",
   "id": "pending-pulse",
   "metadata": {},
   "source": [
    "# SARSA n-step"
   ]
  },
  {
   "cell_type": "code",
   "execution_count": 282,
   "id": "cultural-norwegian",
   "metadata": {},
   "outputs": [],
   "source": [
    "def train_sarsa(agent, env, n_episodes, max_steps=50000):\n",
    "    step = 0\n",
    "    steps = np.zeros(n_episodes) # Steps after each episode\n",
    "    total_rewards = np.zeros(n_episodes)\n",
    "    for i in range(n_episodes):\n",
    "        episode_reward = 0\n",
    "        t = 0\n",
    "        T = float('inf')   \n",
    "        \n",
    "        state = env.reset()\n",
    "        action = agent.act(state)\n",
    "        states = [state]\n",
    "        actions = [action]\n",
    "        rewards = [0]     \n",
    "        \n",
    "        while True:\n",
    "            \n",
    "            if t < T:\n",
    "                action = agent.act(state)\n",
    "                state_next, reward, done, info = env.step(action)\n",
    "                states.append(state_next)\n",
    "                rewards.append(reward)\n",
    "                \n",
    "                if done:\n",
    "                    T = t+1\n",
    "                else:\n",
    "                    action = agent.act(state_next)\n",
    "                    actions.append(action)\n",
    "                    \n",
    "            tau = t-agent.n + 1 # tau is the timestamp of the Q-value being updated\n",
    "            if tau >= 0:\n",
    "                agent.learn(states, actions, rewards, tau, T)     \n",
    "            \n",
    "            state = state_next\n",
    "            step += 1\n",
    "            episode_reward += reward\n",
    "            \n",
    "            #if step>max_steps:\n",
    "             #   return  episode_reward, steps\n",
    "            \n",
    "            if tau == T-1:\n",
    "                break\n",
    "                \n",
    "            t +=1\n",
    "\n",
    "        #print(episode_reward)\n",
    "        steps[i] = step\n",
    "        total_rewards[i] = episode_reward\n",
    "    return total_rewards, steps"
   ]
  },
  {
   "cell_type": "code",
   "execution_count": 283,
   "id": "frequent-leadership",
   "metadata": {},
   "outputs": [],
   "source": [
    "class SARSA():\n",
    "    def __init__(self, n_states, n_actions, gamma, alpha, epsilon, n):\n",
    "        self.n = n\n",
    "        self.n_states = n_states\n",
    "        self.n_actions = n_actions\n",
    "        self.gamma = gamma\n",
    "        self.alpha = alpha\n",
    "        self.epsilon = epsilon\n",
    "        self.Q = np.zeros((n_states, n_actions))\n",
    "        \n",
    "    def act(self, state):\n",
    "        # epsilon-greedy policy       \n",
    "        rand = random.uniform(0,1) # create random variable    \n",
    "        # according to epsilon choose between following q-table or explore:    \n",
    "        if rand > self.epsilon:\n",
    "            action = np.argmax(self.Q[state,:]) #take action according to q-table - exploitation\n",
    "        else:\n",
    "            action = np.random.choice(self.n_actions)  #take random action - exploration\n",
    "            \n",
    "        return action\n",
    "            \n",
    "    def learn(self, states, actions, rewards, tau, T):\n",
    "        G = 0\n",
    "        for i in range(tau +1, min(tau + self.n +1 , T +1)):\n",
    "            G += self.gamma**(i-tau-1) * rewards[i]\n",
    "        if (tau + self.n) < T:\n",
    "            G += self.gamma**self.n * self.Q[states[tau + self.n]][actions[tau + self.n]]\n",
    "        \n",
    "        #Update Q\n",
    "        self.Q[states[tau], actions[tau]] += self.alpha * (G - self.Q[states[tau]][actions[tau]])"
   ]
  },
  {
   "cell_type": "code",
   "execution_count": 298,
   "id": "chemical-astronomy",
   "metadata": {},
   "outputs": [],
   "source": [
    "agent = SARSA(env.observation_space.n, env.action_space.n, gamma=1, alpha=0.1, epsilon=0.1, n=5)"
   ]
  },
  {
   "cell_type": "code",
   "execution_count": 299,
   "id": "saved-effectiveness",
   "metadata": {},
   "outputs": [
    {
     "data": {
      "text/plain": [
       "[<matplotlib.lines.Line2D at 0x1f48995b2e0>]"
      ]
     },
     "execution_count": 299,
     "metadata": {},
     "output_type": "execute_result"
    },
    {
     "data": {
      "image/png": "[encoded data removed]",
      "text/plain": [
       "<Figure size 432x288 with 1 Axes>"
      ]
     },
     "metadata": {
      "needs_background": "light"
     },
     "output_type": "display_data"
    }
   ],
   "source": [
    "total_rewards, steps = train_sarsa(agent, env, n_episodes=1000)\n",
    "plt.plot(total_rewards)\n",
    "#print(total_rewards)"
   ]
  },
  {
   "cell_type": "code",
   "execution_count": 175,
   "id": "written-hydrogen",
   "metadata": {},
   "outputs": [],
   "source": [
    "def test_policy(agent, env, wait=0.1, max_steps=40, render=True):\n",
    "    state = env.reset()\n",
    "    step = 0\n",
    "    total_reward = 0\n",
    "    done = False\n",
    "    while not done and step<max_steps:\n",
    "        action = agent.act(state)\n",
    "        state, reward, done, info = env.step(action)\n",
    "        total_reward += reward\n",
    "        step += 1\n",
    "        \n",
    "        if render:\n",
    "            clear_output(wait=True)\n",
    "            env.render()\n",
    "            # Show some information\n",
    "            print(\"Time step:\", step)\n",
    "            print(\"Reward:\", reward)\n",
    "            print(\"Total reward:\", total_reward)\n",
    "            time.sleep(wait)\n",
    "    env.close()\n",
    "    return total_reward"
   ]
  },
  {
   "cell_type": "code",
   "execution_count": 15,
   "id": "honest-madagascar",
   "metadata": {},
   "outputs": [
    {
     "name": "stdout",
     "output_type": "stream",
     "text": [
      "+---------+\n",
      "|R: | : :\u001b[35m\u001b[34;1m\u001b[43mG\u001b[0m\u001b[0m\u001b[0m|\n",
      "| : | : : |\n",
      "| : : : : |\n",
      "| | : | : |\n",
      "|Y| : |B: |\n",
      "+---------+\n",
      "  (Dropoff)\n",
      "Time step: 10\n",
      "Reward: 20\n",
      "Total reward: 11\n"
     ]
    }
   ],
   "source": [
    "agent.epsilon = 0\n",
    "total_reward = test_policy(agent, env, max_steps=100)"
   ]
  },
  {
   "cell_type": "code",
   "execution_count": null,
   "id": "eastern-absorption",
   "metadata": {},
   "outputs": [],
   "source": []
  }
 ],
 "metadata": {
  "kernelspec": {
   "display_name": "Python 3",
   "language": "python",
   "name": "python3"
  },
  "language_info": {
   "codemirror_mode": {
    "name": "ipython",
    "version": 3
   },
   "file_extension": ".py",
   "mimetype": "text/x-python",
   "name": "python",
   "nbconvert_exporter": "python",
   "pygments_lexer": "ipython3",
   "version": "3.8.5"
  }
 },
 "nbformat": 4,
 "nbformat_minor": 5
}
